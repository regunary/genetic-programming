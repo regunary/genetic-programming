{
  "nbformat": 4,
  "nbformat_minor": 0,
  "metadata": {
    "colab": {
      "provenance": []
    },
    "kernelspec": {
      "name": "python3",
      "display_name": "Python 3"
    },
    "language_info": {
      "name": "python"
    }
  },
  "cells": [
    {
      "cell_type": "markdown",
      "source": [
        "# GP algorithm"
      ],
      "metadata": {
        "id": "T7YuWNpxEgJd"
      }
    },
    {
      "cell_type": "code",
      "source": [
        "!pip install deap"
      ],
      "metadata": {
        "colab": {
          "base_uri": "https://localhost:8080/"
        },
        "id": "GyuPlGV-qoOJ",
        "outputId": "ad732f40-287a-4451-d117-fc3a765ed950"
      },
      "execution_count": null,
      "outputs": [
        {
          "output_type": "stream",
          "name": "stdout",
          "text": [
            "Collecting deap\n",
            "  Downloading deap-1.4.3-cp311-cp311-manylinux_2_5_x86_64.manylinux1_x86_64.manylinux_2_17_x86_64.manylinux2014_x86_64.whl.metadata (13 kB)\n",
            "Requirement already satisfied: numpy in /usr/local/lib/python3.11/dist-packages (from deap) (2.0.2)\n",
            "Downloading deap-1.4.3-cp311-cp311-manylinux_2_5_x86_64.manylinux1_x86_64.manylinux_2_17_x86_64.manylinux2014_x86_64.whl (135 kB)\n",
            "\u001b[2K   \u001b[90m━━━━━━━━━━━━━━━━━━━━━━━━━━━━━━━━━━━━━━━━\u001b[0m \u001b[32m135.6/135.6 kB\u001b[0m \u001b[31m2.0 MB/s\u001b[0m eta \u001b[36m0:00:00\u001b[0m\n",
            "\u001b[?25hInstalling collected packages: deap\n",
            "Successfully installed deap-1.4.3\n"
          ]
        }
      ]
    },
    {
      "cell_type": "code",
      "source": [
        "import torch\n",
        "import torch.nn as nn\n",
        "import torch.nn.functional as F\n",
        "import numpy as np\n",
        "import random\n",
        "from sklearn.datasets import load_iris\n",
        "from sklearn.model_selection import train_test_split\n",
        "from sklearn.preprocessing import StandardScaler\n",
        "from deap import base, creator, algorithms, tools"
      ],
      "metadata": {
        "id": "ncIqeBAyqr13"
      },
      "execution_count": null,
      "outputs": []
    },
    {
      "cell_type": "code",
      "source": [
        "# --- DỮ LIỆU ---\n",
        "iris = load_iris()\n",
        "X = StandardScaler().fit_transform(iris.data)\n",
        "y = iris.target\n",
        "y = (y == 0).astype(int)  # nhị phân hóa\n",
        "X_train, X_test, y_train, y_test = train_test_split(X, y, test_size=0.3, random_state=42)\n",
        "\n",
        "X_train = torch.tensor(X_train, dtype=torch.float32)\n",
        "y_train = torch.tensor(y_train, dtype=torch.float32).view(-1, 1)\n",
        "X_test = torch.tensor(X_test, dtype=torch.float32)\n",
        "y_test = torch.tensor(y_test, dtype=torch.float32).view(-1, 1)"
      ],
      "metadata": {
        "id": "V_Hy2qIUqtvL"
      },
      "execution_count": null,
      "outputs": []
    },
    {
      "cell_type": "code",
      "source": [
        "# --- ĐỊNH NGHĨA THÀNH PHẦN KIẾN TRÚC CÓ THỂ TIẾN HÓA ---\n",
        "layer_options = [\"Dense(16)\", \"Dense(32)\", \"Dense(64)\"]\n",
        "activation_options = [\"ReLU\", \"Sigmoid\", \"Tanh\"]\n",
        "building_blocks = layer_options + activation_options"
      ],
      "metadata": {
        "id": "Xl4LbAyeqwZS"
      },
      "execution_count": null,
      "outputs": []
    },
    {
      "cell_type": "code",
      "source": [
        "# --- MAPPING CÁC THÀNH PHẦN KIẾN TRÚC ---\n",
        "def build_model_from_genome(genome):\n",
        "    layers = []\n",
        "    input_dim = 4\n",
        "    for gene in genome:\n",
        "        if gene.startswith(\"Dense\"):\n",
        "            out_dim = int(gene.split(\"(\")[1][:-1])\n",
        "            layers.append(nn.Linear(input_dim, out_dim))\n",
        "            input_dim = out_dim\n",
        "        elif gene == \"ReLU\":\n",
        "            layers.append(nn.ReLU())\n",
        "        elif gene == \"Sigmoid\":\n",
        "            layers.append(nn.Sigmoid())\n",
        "        elif gene == \"Tanh\":\n",
        "            layers.append(nn.Tanh())\n",
        "    # output layer\n",
        "    layers.append(nn.Linear(input_dim, 1))\n",
        "    layers.append(nn.Sigmoid())  # binary classification\n",
        "    return nn.Sequential(*layers)"
      ],
      "metadata": {
        "id": "YnbJpWwfqywR"
      },
      "execution_count": null,
      "outputs": []
    },
    {
      "cell_type": "code",
      "source": [
        "# --- FITNESS FUNCTION ---\n",
        "def eval_nn(individual):\n",
        "    model = build_model_from_genome(individual)\n",
        "    optimizer = torch.optim.Adam(model.parameters(), lr=0.01)\n",
        "    loss_fn = nn.BCELoss()\n",
        "\n",
        "    # train trong 10 epochs\n",
        "    try:\n",
        "        for epoch in range(10):\n",
        "            model.train()\n",
        "            optimizer.zero_grad()\n",
        "            output = model(X_train)\n",
        "            loss = loss_fn(output, y_train)\n",
        "            loss.backward()\n",
        "            optimizer.step()\n",
        "\n",
        "        # evaluate\n",
        "        model.eval()\n",
        "        with torch.no_grad():\n",
        "            pred = (model(X_test) > 0.5).float()\n",
        "            acc = (pred == y_test).float().mean().item()\n",
        "        return acc,\n",
        "    except Exception:\n",
        "        return 0.0,  # nếu model lỗi thì return fitness = 0"
      ],
      "metadata": {
        "id": "pfG7ZA5Qq2Cg"
      },
      "execution_count": null,
      "outputs": []
    },
    {
      "cell_type": "code",
      "source": [
        "# --- GP SETUP ---\n",
        "creator.create(\"FitnessMax\", base.Fitness, weights=(1.0,))\n",
        "creator.create(\"Individual\", list, fitness=creator.FitnessMax)\n",
        "\n",
        "toolbox = base.Toolbox()\n",
        "toolbox.register(\"gene\", lambda: random.choice(building_blocks))\n",
        "toolbox.register(\"individual\", tools.initRepeat, creator.Individual, toolbox.gene, n=4)\n",
        "toolbox.register(\"population\", tools.initRepeat, list, toolbox.individual)\n",
        "\n",
        "toolbox.register(\"evaluate\", eval_nn)\n",
        "toolbox.register(\"mate\", tools.cxTwoPoint)\n",
        "toolbox.register(\"mutate\", tools.mutShuffleIndexes, indpb=0.3)\n",
        "toolbox.register(\"select\", tools.selTournament, tournsize=3)"
      ],
      "metadata": {
        "id": "lFlV9jjiq5bO"
      },
      "execution_count": null,
      "outputs": []
    },
    {
      "cell_type": "code",
      "execution_count": null,
      "metadata": {
        "id": "P0SzU_wwqaup"
      },
      "outputs": [],
      "source": [
        "# --- CHẠY EVOLUTION ---\n",
        "def run_gp_nn_search():\n",
        "    random.seed(42)\n",
        "    pop = toolbox.population(n=10)\n",
        "    hof = tools.HallOfFame(1)\n",
        "\n",
        "    stats = tools.Statistics(lambda ind: ind.fitness.values[0])\n",
        "    stats.register(\"avg\", np.mean)\n",
        "    stats.register(\"max\", np.max)\n",
        "\n",
        "    pop, log = algorithms.eaSimple(pop, toolbox, cxpb=0.5, mutpb=0.3, ngen=10, stats=stats, halloffame=hof, verbose=True)\n",
        "\n",
        "    print(\"\\nBest Architecture:\", hof[0])\n",
        "    print(\"Best Accuracy:\", hof[0].fitness.values[0])\n",
        "\n",
        "\n"
      ]
    },
    {
      "cell_type": "code",
      "source": [
        "run_gp_nn_search()"
      ],
      "metadata": {
        "colab": {
          "base_uri": "https://localhost:8080/"
        },
        "id": "88rDnrpgqexI",
        "outputId": "d85e0f67-07a7-4965-ff5e-666c705ee50d"
      },
      "execution_count": null,
      "outputs": [
        {
          "output_type": "stream",
          "name": "stdout",
          "text": [
            "gen\tnevals\tavg     \tmax\n",
            "0  \t10    \t0.788889\t1  \n",
            "1  \t5     \t1       \t1  \n",
            "2  \t7     \t1       \t1  \n",
            "3  \t9     \t0.997778\t1  \n",
            "4  \t5     \t1       \t1  \n",
            "5  \t6     \t0.991111\t1  \n",
            "6  \t6     \t1       \t1  \n",
            "7  \t3     \t1       \t1  \n",
            "8  \t10    \t1       \t1  \n",
            "9  \t8     \t1       \t1  \n",
            "10 \t7     \t1       \t1  \n",
            "\n",
            "Best Architecture: ['Tanh', 'Dense(16)', 'Dense(16)', 'Tanh']\n",
            "Best Accuracy: 1.0\n"
          ]
        }
      ]
    },
    {
      "cell_type": "markdown",
      "source": [
        "# Iris Classification"
      ],
      "metadata": {
        "id": "rmrjsPrBEsZI"
      }
    },
    {
      "cell_type": "code",
      "source": [
        "import operator\n",
        "import random\n",
        "import numpy as np\n",
        "from deap import base, creator, tools, gp, algorithms\n",
        "from sklearn.datasets import load_iris\n",
        "from sklearn.model_selection import train_test_split\n",
        "from sklearn.metrics import accuracy_score\n",
        "from sklearn.preprocessing import StandardScaler"
      ],
      "metadata": {
        "id": "6nOUqtnjEzd-"
      },
      "execution_count": null,
      "outputs": []
    },
    {
      "cell_type": "code",
      "source": [
        "# Load data & tiền xử lý\n",
        "data = load_iris()\n",
        "X = data['data']\n",
        "y = data['target']\n",
        "y_bin = (y == 0).astype(int)  # chỉ phân biệt Setosa (1) và Others (0)\n",
        "\n",
        "X = StandardScaler().fit_transform(X)  # chuẩn hóa\n",
        "X_train, X_test, y_train, y_test = train_test_split(X, y_bin, test_size=0.3, random_state=42)"
      ],
      "metadata": {
        "id": "w8nvrUlsE1vK"
      },
      "execution_count": null,
      "outputs": []
    },
    {
      "cell_type": "code",
      "source": [
        "# Thiết lập GP Primitive Set\n",
        "pset = gp.PrimitiveSet(\"MAIN\", arity=4)  # 4 input features\n",
        "pset.renameArguments(ARG0='x0', ARG1='x1', ARG2='x2', ARG3='x3')\n",
        "pset.addPrimitive(operator.add, 2)\n",
        "pset.addPrimitive(operator.sub, 2)\n",
        "pset.addPrimitive(operator.mul, 2)\n",
        "pset.addPrimitive(operator.neg, 1)\n",
        "pset.addPrimitive(max, 2)\n",
        "pset.addPrimitive(min, 2)\n",
        "pset.addEphemeralConstant(\"rand\", lambda: random.uniform(-1, 1))"
      ],
      "metadata": {
        "colab": {
          "base_uri": "https://localhost:8080/"
        },
        "id": "rGpV25ilE5tQ",
        "outputId": "45ebc12a-d74a-4770-e984-0ba5e11f8c48"
      },
      "execution_count": null,
      "outputs": [
        {
          "output_type": "stream",
          "name": "stderr",
          "text": [
            "/usr/local/lib/python3.11/dist-packages/deap/gp.py:257: RuntimeWarning: Ephemeral rand function cannot be pickled because its generating function is a lambda function. Use functools.partial instead.\n",
            "  warnings.warn(\"Ephemeral {name} function cannot be \"\n"
          ]
        }
      ]
    },
    {
      "cell_type": "code",
      "source": [
        "# Định nghĩa fitness và individual\n",
        "creator.create(\"FitnessMax\", base.Fitness, weights=(1.0,))  # maximize accuracy\n",
        "creator.create(\"Individual\", gp.PrimitiveTree, fitness=creator.FitnessMax)\n",
        "\n",
        "toolbox = base.Toolbox()\n",
        "toolbox.register(\"expr_init\", gp.genHalfAndHalf, pset=pset, min_=1, max_=3)\n",
        "toolbox.register(\"individual\", tools.initIterate, creator.Individual, toolbox.expr_init)\n",
        "toolbox.register(\"population\", tools.initRepeat, list, toolbox.individual)\n",
        "\n",
        "toolbox.register(\"compile\", gp.compile, pset=pset)"
      ],
      "metadata": {
        "id": "xpFAwCUUE87i"
      },
      "execution_count": null,
      "outputs": []
    },
    {
      "cell_type": "code",
      "source": [
        "# Fitness function\n",
        "def eval_classifier(individual):\n",
        "    func = toolbox.compile(expr=individual)\n",
        "    try:\n",
        "        pred = [1 if func(*x) > 0 else 0 for x in X_train]\n",
        "        acc = accuracy_score(y_train, pred)\n",
        "        return acc,\n",
        "    except Exception:\n",
        "        return 0.0,"
      ],
      "metadata": {
        "id": "z8doGFL1E-zF"
      },
      "execution_count": null,
      "outputs": []
    },
    {
      "cell_type": "code",
      "source": [
        "toolbox.register(\"evaluate\", eval_classifier)\n",
        "toolbox.register(\"select\", tools.selTournament, tournsize=3)\n",
        "toolbox.register(\"mate\", gp.cxOnePoint)\n",
        "toolbox.register(\"mutate\", gp.mutUniform, expr=toolbox.expr_init, pset=pset)\n",
        "\n",
        "# Giới hạn độ sâu cây\n",
        "toolbox.decorate(\"mate\", gp.staticLimit(key=operator.attrgetter(\"height\"), max_value=5))\n",
        "toolbox.decorate(\"mutate\", gp.staticLimit(key=operator.attrgetter(\"height\"), max_value=5))"
      ],
      "metadata": {
        "id": "pqtnInbiFBnz"
      },
      "execution_count": null,
      "outputs": []
    },
    {
      "cell_type": "code",
      "source": [
        "# Chạy tiến hóa\n",
        "def run_gp_classification():\n",
        "    pop = toolbox.population(n=50)\n",
        "    hof = tools.HallOfFame(1)\n",
        "    stats = tools.Statistics(lambda ind: ind.fitness.values[0])\n",
        "    stats.register(\"avg\", np.mean)\n",
        "    stats.register(\"max\", np.max)\n",
        "\n",
        "    pop, log = algorithms.eaSimple(pop, toolbox, cxpb=0.5, mutpb=0.2,\n",
        "                                    ngen=20, stats=stats, halloffame=hof, verbose=True)\n",
        "\n",
        "    # Đánh giá mô hình tốt nhất trên test set\n",
        "    best = hof[0]\n",
        "    func = toolbox.compile(expr=best)\n",
        "    y_pred = [1 if func(*x) > 0 else 0 for x in X_test]\n",
        "    acc_test = accuracy_score(y_test, y_pred)\n",
        "    print(\"\\nBest Expression:\", best)\n",
        "    print(\"Test Accuracy:\", acc_test)\n"
      ],
      "metadata": {
        "id": "0MaQ4ZPDFEbl"
      },
      "execution_count": null,
      "outputs": []
    },
    {
      "cell_type": "code",
      "source": [
        "if __name__ == \"__main__\":\n",
        "    run_gp_classification()\n"
      ],
      "metadata": {
        "id": "ATTOjX_Aq7mQ",
        "colab": {
          "base_uri": "https://localhost:8080/"
        },
        "outputId": "12e46797-9721-4805-f9ac-b3322bffd27b"
      },
      "execution_count": null,
      "outputs": [
        {
          "output_type": "stream",
          "name": "stdout",
          "text": [
            "gen\tnevals\tavg     \tmax\n",
            "0  \t50    \t0.394667\t1  \n",
            "1  \t31    \t0.577714\t0.933333\n",
            "2  \t37    \t0.690476\t0.980952\n",
            "3  \t38    \t0.751429\t0.990476\n",
            "4  \t31    \t0.799238\t0.990476\n",
            "5  \t31    \t0.883619\t1       \n",
            "6  \t31    \t0.897524\t1       \n",
            "7  \t30    \t0.924571\t1       \n",
            "8  \t30    \t0.901143\t1       \n",
            "9  \t32    \t0.888571\t1       \n",
            "10 \t32    \t0.908381\t1       \n",
            "11 \t33    \t0.868571\t1       \n",
            "12 \t31    \t0.882476\t1       \n",
            "13 \t29    \t0.915619\t1       \n",
            "14 \t31    \t0.915619\t1       \n",
            "15 \t42    \t0.82419 \t1       \n",
            "16 \t19    \t0.942857\t1       \n",
            "17 \t34    \t0.891619\t1       \n",
            "18 \t16    \t0.965333\t1       \n",
            "19 \t22    \t0.935048\t1       \n",
            "20 \t34    \t0.866667\t1       \n",
            "\n",
            "Best Expression: neg(add(x3, 0.3191941467180819))\n",
            "Test Accuracy: 1.0\n"
          ]
        }
      ]
    },
    {
      "cell_type": "code",
      "source": [
        "import matplotlib.pyplot as plt\n",
        "\n",
        "# Dữ liệu từ kết quả log\n",
        "generations = list(range(21))\n",
        "avg_fitness = [\n",
        "    0.394667, 0.577714, 0.690476, 0.751429, 0.799238,\n",
        "    0.883619, 0.897524, 0.924571, 0.901143, 0.888571,\n",
        "    0.908381, 0.868571, 0.882476, 0.915619, 0.915619,\n",
        "    0.82419,  0.942857, 0.891619, 0.965333, 0.935048,\n",
        "    0.866667\n",
        "]\n",
        "max_fitness = [\n",
        "    1, 0.933333, 0.980952, 0.990476, 0.990476,\n",
        "    1, 1, 1, 1, 1,\n",
        "    1, 1, 1, 1, 1,\n",
        "    1, 1, 1, 1, 1,\n",
        "    1\n",
        "]\n",
        "\n",
        "# Vẽ biểu đồ\n",
        "plt.figure(figsize=(10, 6))\n",
        "plt.plot(generations, avg_fitness, marker='o', label='Average Fitness')\n",
        "plt.plot(generations, max_fitness, marker='s', label='Max Fitness')\n",
        "plt.xlabel(\"Generation\")\n",
        "plt.ylabel(\"Fitness (Accuracy)\")\n",
        "plt.title(\"GP Classification: Fitness over Generations\")\n",
        "plt.xticks(generations)\n",
        "plt.ylim(0.35, 1.05)\n",
        "plt.grid(True)\n",
        "plt.legend()\n",
        "plt.tight_layout()\n",
        "plt.show()\n"
      ],
      "metadata": {
        "colab": {
          "base_uri": "https://localhost:8080/",
          "height": 607
        },
        "id": "cRgRovPeFHZM",
        "outputId": "1a3704c7-836e-402c-abf1-b1decf43fd61"
      },
      "execution_count": null,
      "outputs": [
        {
          "output_type": "display_data",
          "data": {
            "text/plain": [
              "<Figure size 1000x600 with 1 Axes>"
            ],
            "image/png": "[encoded data removed]"
          },
          "metadata": {}
        }
      ]
    },
    {
      "cell_type": "code",
      "source": [],
      "metadata": {
        "id": "pKkeH8mTFVYW"
      },
      "execution_count": null,
      "outputs": []
    }
  ]
}